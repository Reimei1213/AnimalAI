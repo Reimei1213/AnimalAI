{
 "cells": [
  {
   "cell_type": "code",
   "execution_count": 2,
   "metadata": {},
   "outputs": [
    {
     "name": "stderr",
     "output_type": "stream",
     "text": [
      "C:\\Users\\reimei\\Anaconda3\\lib\\site-packages\\sklearn\\cross_validation.py:41: DeprecationWarning: This module was deprecated in version 0.18 in favor of the model_selection module into which all the refactored classes and functions are moved. Also note that the interface of the new CV iterators are different from that of this module. This module will be removed in 0.20.\n",
      "  \"This module will be removed in 0.20.\", DeprecationWarning)\n"
     ]
    }
   ],
   "source": [
    "from PIL import Image\n",
    "import os, glob\n",
    "import numpy as np\n",
    "from sklearn import cross_validation\n",
    "\n",
    "classes = [\"monkey\",\"boar\",\"crow\"]\n",
    "num_classes = len(classes)\n",
    "image_size = 50\n",
    "\n",
    "#画像の読み込み\n",
    "\n",
    "X = []\n",
    "Y = []\n",
    "for index, classlabel in enumerate(classes):\n",
    "    photos_dir = \"./\" + classlabel\n",
    "    files = glob.glob(photos_dir + \"/*.jpg\")\n",
    "    for i, file in enumerate(files):\n",
    "        if i > 200: break\n",
    "        image = Image.open(file)\n",
    "        image = image.convert(\"RGB\")\n",
    "        image = image.resize((image_size, image_size))\n",
    "        data = np.asarray(image)\n",
    "        X.append(data)\n",
    "        Y.append(index)\n",
    "\n",
    "X = np.array(X)\n",
    "Y = np.array(Y)\n",
    "\n"
   ]
  },
  {
   "cell_type": "code",
   "execution_count": 3,
   "metadata": {},
   "outputs": [
    {
     "data": {
      "text/plain": [
       "array([[[ 94,  86,  67],\n",
       "        [ 30,  49,  19],\n",
       "        [ 37,  56,  26],\n",
       "        ...,\n",
       "        [ 76,  70,  34],\n",
       "        [ 47,  53,  25],\n",
       "        [ 27,  41,  16]],\n",
       "\n",
       "       [[118, 104,  91],\n",
       "        [ 39,  49,  25],\n",
       "        [ 34,  48,  23],\n",
       "        ...,\n",
       "        [146, 115,  87],\n",
       "        [120, 103,  75],\n",
       "        [ 53,  56,  27]],\n",
       "\n",
       "       [[118, 102,  89],\n",
       "        [ 54,  57,  38],\n",
       "        [ 31,  40,  21],\n",
       "        ...,\n",
       "        [126,  92,  67],\n",
       "        [122, 101,  74],\n",
       "        [ 61,  64,  35]],\n",
       "\n",
       "       ...,\n",
       "\n",
       "       [[ 78, 100,  64],\n",
       "        [ 75,  97,  58],\n",
       "        [ 70,  92,  53],\n",
       "        ...,\n",
       "        [101,  84,  76],\n",
       "        [ 70,  54,  39],\n",
       "        [ 71,  54,  36]],\n",
       "\n",
       "       [[ 73,  99,  64],\n",
       "        [ 76, 104,  63],\n",
       "        [ 77, 104,  59],\n",
       "        ...,\n",
       "        [ 24,  11,   2],\n",
       "        [ 24,  16,   3],\n",
       "        [ 41,  33,  20]],\n",
       "\n",
       "       [[ 71,  97,  60],\n",
       "        [ 74, 103,  59],\n",
       "        [ 75, 104,  58],\n",
       "        ...,\n",
       "        [ 38,  25,  17],\n",
       "        [  0,   1,   0],\n",
       "        [  1,   2,   0]]], dtype=uint8)"
      ]
     },
     "execution_count": 3,
     "metadata": {},
     "output_type": "execute_result"
    }
   ],
   "source": [
    "X[0]"
   ]
  },
  {
   "cell_type": "code",
   "execution_count": 4,
   "metadata": {},
   "outputs": [
    {
     "data": {
      "text/plain": [
       "577"
      ]
     },
     "execution_count": 4,
     "metadata": {},
     "output_type": "execute_result"
    }
   ],
   "source": [
    "len(X)"
   ]
  },
  {
   "cell_type": "code",
   "execution_count": 5,
   "metadata": {},
   "outputs": [
    {
     "data": {
      "text/plain": [
       "0"
      ]
     },
     "execution_count": 5,
     "metadata": {},
     "output_type": "execute_result"
    }
   ],
   "source": [
    "Y[100]"
   ]
  },
  {
   "cell_type": "code",
   "execution_count": 6,
   "metadata": {},
   "outputs": [
    {
     "data": {
      "text/plain": [
       "1"
      ]
     },
     "execution_count": 6,
     "metadata": {},
     "output_type": "execute_result"
    }
   ],
   "source": [
    "Y[200]"
   ]
  },
  {
   "cell_type": "code",
   "execution_count": null,
   "metadata": {},
   "outputs": [],
   "source": [
    "Y"
   ]
  }
 ],
 "metadata": {
  "kernelspec": {
   "display_name": "Python 3",
   "language": "python",
   "name": "python3"
  },
  "language_info": {
   "codemirror_mode": {
    "name": "ipython",
    "version": 3
   },
   "file_extension": ".py",
   "mimetype": "text/x-python",
   "name": "python",
   "nbconvert_exporter": "python",
   "pygments_lexer": "ipython3",
   "version": "3.6.5"
  }
 },
 "nbformat": 4,
 "nbformat_minor": 2
}
