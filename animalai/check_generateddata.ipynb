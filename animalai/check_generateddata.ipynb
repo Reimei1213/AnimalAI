{
 "cells": [
  {
   "cell_type": "code",
   "execution_count": 1,
   "metadata": {},
   "outputs": [],
   "source": [
    "from PIL import Image\n",
    "import os, glob\n",
    "import numpy as np\n",
    "#from sklearn import cross_validation\n",
    "from sklearn import model_selection\n",
    "\n",
    "classes = [\"monkey\",\"boar\",\"crow\"]\n",
    "num_classes = len(classes)\n",
    "image_size = 50\n",
    "\n",
    "#画像の読み込み\n",
    "\n",
    "X = []\n",
    "Y = []\n",
    "for index, classlabel in enumerate(classes):\n",
    "    photos_dir = \"./\" + classlabel\n",
    "    files = glob.glob(photos_dir + \"/*.jpg\")\n",
    "    for i, file in enumerate(files):\n",
    "        if i > 200: break\n",
    "        image = Image.open(file)\n",
    "        image = image.convert(\"RGB\")\n",
    "        image = image.resize((image_size, image_size))\n",
    "        data = np.asarray(image)\n",
    "        X.append(data)\n",
    "        Y.append(index)\n",
    "\n",
    "X = np.array(X)\n",
    "Y = np.array(Y)\n",
    "\n",
    "X_train, X_test, Y_train, Y_test = model_selection.train_test_split(X,Y)\n",
    "xy = (X_train, X_test, Y_train, Y_test)\n",
    "np.save(\"./animal.npy\", xy)\n"
   ]
  },
  {
   "cell_type": "code",
   "execution_count": 2,
   "metadata": {},
   "outputs": [
    {
     "data": {
      "text/plain": [
       "432"
      ]
     },
     "execution_count": 2,
     "metadata": {},
     "output_type": "execute_result"
    }
   ],
   "source": [
    "len(X_train)"
   ]
  },
  {
   "cell_type": "code",
   "execution_count": 3,
   "metadata": {},
   "outputs": [
    {
     "data": {
      "text/plain": [
       "145"
      ]
     },
     "execution_count": 3,
     "metadata": {},
     "output_type": "execute_result"
    }
   ],
   "source": [
    "len(X_test)"
   ]
  },
  {
   "cell_type": "code",
   "execution_count": 4,
   "metadata": {},
   "outputs": [
    {
     "data": {
      "text/plain": [
       "432"
      ]
     },
     "execution_count": 4,
     "metadata": {},
     "output_type": "execute_result"
    }
   ],
   "source": [
    "len(Y_train)"
   ]
  },
  {
   "cell_type": "code",
   "execution_count": 5,
   "metadata": {},
   "outputs": [
    {
     "data": {
      "text/plain": [
       "145"
      ]
     },
     "execution_count": 5,
     "metadata": {},
     "output_type": "execute_result"
    }
   ],
   "source": [
    "len(Y_test)"
   ]
  },
  {
   "cell_type": "code",
   "execution_count": 6,
   "metadata": {},
   "outputs": [
    {
     "data": {
      "text/plain": [
       "array([[[170, 157, 167],\n",
       "        [170, 153, 163],\n",
       "        [214, 198, 235],\n",
       "        ...,\n",
       "        [ 25,  14,  18],\n",
       "        [104,  84,  73],\n",
       "        [101,  72,  74]],\n",
       "\n",
       "       [[195, 209, 124],\n",
       "        [ 73,  75,  54],\n",
       "        [180, 186, 158],\n",
       "        ...,\n",
       "        [103,  80,  66],\n",
       "        [ 53,  50,  41],\n",
       "        [ 80,  67,  61]],\n",
       "\n",
       "       [[227, 229, 208],\n",
       "        [127, 132, 109],\n",
       "        [195, 204, 183],\n",
       "        ...,\n",
       "        [138, 100, 123],\n",
       "        [ 35,  27,  24],\n",
       "        [122,  98,  96]],\n",
       "\n",
       "       ...,\n",
       "\n",
       "       [[ 42,  42,  34],\n",
       "        [ 36,  33,  18],\n",
       "        [ 62,  59,  42],\n",
       "        ...,\n",
       "        [ 44,  33,  27],\n",
       "        [ 40,  35,  29],\n",
       "        [ 80,  73,  65]],\n",
       "\n",
       "       [[ 53,  47,  47],\n",
       "        [ 34,  26,  23],\n",
       "        [ 57,  48,  39],\n",
       "        ...,\n",
       "        [ 44,  33,  29],\n",
       "        [ 54,  45,  40],\n",
       "        [ 77,  72,  69]],\n",
       "\n",
       "       [[104,  99,  95],\n",
       "        [ 55,  46,  41],\n",
       "        [ 42,  33,  24],\n",
       "        ...,\n",
       "        [ 45,  38,  30],\n",
       "        [112, 103,  98],\n",
       "        [ 61,  56,  53]]], dtype=uint8)"
      ]
     },
     "execution_count": 6,
     "metadata": {},
     "output_type": "execute_result"
    }
   ],
   "source": [
    "X_train[100]"
   ]
  },
  {
   "cell_type": "code",
   "execution_count": 7,
   "metadata": {},
   "outputs": [
    {
     "data": {
      "text/plain": [
       "0"
      ]
     },
     "execution_count": 7,
     "metadata": {},
     "output_type": "execute_result"
    }
   ],
   "source": [
    "Y_train[100]"
   ]
  },
  {
   "cell_type": "code",
   "execution_count": null,
   "metadata": {},
   "outputs": [],
   "source": []
  }
 ],
 "metadata": {
  "kernelspec": {
   "display_name": "Python 3",
   "language": "python",
   "name": "python3"
  },
  "language_info": {
   "codemirror_mode": {
    "name": "ipython",
    "version": 3
   },
   "file_extension": ".py",
   "mimetype": "text/x-python",
   "name": "python",
   "nbconvert_exporter": "python",
   "pygments_lexer": "ipython3",
   "version": "3.6.5"
  }
 },
 "nbformat": 4,
 "nbformat_minor": 2
}
